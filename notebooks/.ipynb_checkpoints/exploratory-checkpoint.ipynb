{
 "cells": [
  {
   "cell_type": "markdown",
   "metadata": {},
   "source": [
    "# Exploratory Analysis of a small version of the data set #\n"
   ]
  },
  {
   "cell_type": "code",
   "execution_count": 186,
   "metadata": {},
   "outputs": [],
   "source": [
    "# import useful packages\n",
    "\n",
    "import pandas as pd\n",
    "import numpy as np\n",
    "\n",
    "import matplotlib.pyplot as plt\n",
    "import matplotlib as mpl\n",
    "%matplotlib inline\n",
    "\n",
    "import seaborn as sns\n",
    "sns.set()\n",
    "\n",
    "mpl.rcParams['lines.linewidth']=1.5\n",
    "mpl.rcParams['xtick.labelsize']=13\n",
    "mpl.rcParams['ytick.labelsize']=13\n",
    "mpl.rcParams['axes.labelsize']=15\n",
    "mpl.rcParams['axes.labelweight']='heavy'\n",
    "\n",
    "\n",
    "\n",
    "import os\n",
    "import sys"
   ]
  },
  {
   "cell_type": "markdown",
   "metadata": {},
   "source": [
    "Add our own packages to the system path, and import packages"
   ]
  },
  {
   "cell_type": "code",
   "execution_count": 16,
   "metadata": {},
   "outputs": [],
   "source": [
    "src_dir = os.path.join(os.path.dirname(os.getcwd()),'adfraud')\n",
    "sys.path.append(src_dir)"
   ]
  },
  {
   "cell_type": "markdown",
   "metadata": {},
   "source": [
    "#### Define where the data is stored, and the data file to load, and read data into a pandas DataFrame ####"
   ]
  },
  {
   "cell_type": "code",
   "execution_count": 17,
   "metadata": {},
   "outputs": [],
   "source": [
    "data_dir = os.path.join(os.path.dirname(os.getcwd()),'data')"
   ]
  },
  {
   "cell_type": "code",
   "execution_count": 18,
   "metadata": {},
   "outputs": [],
   "source": [
    "data_filename = 'train_sample.csv'\n",
    "data_location = os.path.join(data_dir,data_filename)\n",
    "ad_data = pd.read_csv(data_location)"
   ]
  },
  {
   "cell_type": "markdown",
   "metadata": {},
   "source": [
    "Let's start getting a very rough overview of the data\n",
    "\n",
    "First looking at the cloumn headings, and then the forst few entries of data to get a feel for the data and data_types in the columns"
   ]
  },
  {
   "cell_type": "code",
   "execution_count": 22,
   "metadata": {},
   "outputs": [
    {
     "data": {
      "text/plain": [
       "['ip',\n",
       " 'app',\n",
       " 'device',\n",
       " 'os',\n",
       " 'channel',\n",
       " 'click_time',\n",
       " 'attributed_time',\n",
       " 'is_attributed']"
      ]
     },
     "execution_count": 22,
     "metadata": {},
     "output_type": "execute_result"
    }
   ],
   "source": [
    "# get a list of the cloumn names\n",
    "list(ad_data)"
   ]
  },
  {
   "cell_type": "code",
   "execution_count": 21,
   "metadata": {},
   "outputs": [
    {
     "data": {
      "text/html": [
       "<div>\n",
       "<style scoped>\n",
       "    .dataframe tbody tr th:only-of-type {\n",
       "        vertical-align: middle;\n",
       "    }\n",
       "\n",
       "    .dataframe tbody tr th {\n",
       "        vertical-align: top;\n",
       "    }\n",
       "\n",
       "    .dataframe thead th {\n",
       "        text-align: right;\n",
       "    }\n",
       "</style>\n",
       "<table border=\"1\" class=\"dataframe\">\n",
       "  <thead>\n",
       "    <tr style=\"text-align: right;\">\n",
       "      <th></th>\n",
       "      <th>ip</th>\n",
       "      <th>app</th>\n",
       "      <th>device</th>\n",
       "      <th>os</th>\n",
       "      <th>channel</th>\n",
       "      <th>click_time</th>\n",
       "      <th>attributed_time</th>\n",
       "      <th>is_attributed</th>\n",
       "    </tr>\n",
       "  </thead>\n",
       "  <tbody>\n",
       "    <tr>\n",
       "      <th>0</th>\n",
       "      <td>87540</td>\n",
       "      <td>12</td>\n",
       "      <td>1</td>\n",
       "      <td>13</td>\n",
       "      <td>497</td>\n",
       "      <td>2017-11-07 09:30:38</td>\n",
       "      <td>NaN</td>\n",
       "      <td>0</td>\n",
       "    </tr>\n",
       "    <tr>\n",
       "      <th>1</th>\n",
       "      <td>105560</td>\n",
       "      <td>25</td>\n",
       "      <td>1</td>\n",
       "      <td>17</td>\n",
       "      <td>259</td>\n",
       "      <td>2017-11-07 13:40:27</td>\n",
       "      <td>NaN</td>\n",
       "      <td>0</td>\n",
       "    </tr>\n",
       "    <tr>\n",
       "      <th>2</th>\n",
       "      <td>101424</td>\n",
       "      <td>12</td>\n",
       "      <td>1</td>\n",
       "      <td>19</td>\n",
       "      <td>212</td>\n",
       "      <td>2017-11-07 18:05:24</td>\n",
       "      <td>NaN</td>\n",
       "      <td>0</td>\n",
       "    </tr>\n",
       "    <tr>\n",
       "      <th>3</th>\n",
       "      <td>94584</td>\n",
       "      <td>13</td>\n",
       "      <td>1</td>\n",
       "      <td>13</td>\n",
       "      <td>477</td>\n",
       "      <td>2017-11-07 04:58:08</td>\n",
       "      <td>NaN</td>\n",
       "      <td>0</td>\n",
       "    </tr>\n",
       "  </tbody>\n",
       "</table>\n",
       "</div>"
      ],
      "text/plain": [
       "       ip  app  device  os  channel           click_time attributed_time  \\\n",
       "0   87540   12       1  13      497  2017-11-07 09:30:38             NaN   \n",
       "1  105560   25       1  17      259  2017-11-07 13:40:27             NaN   \n",
       "2  101424   12       1  19      212  2017-11-07 18:05:24             NaN   \n",
       "3   94584   13       1  13      477  2017-11-07 04:58:08             NaN   \n",
       "\n",
       "   is_attributed  \n",
       "0              0  \n",
       "1              0  \n",
       "2              0  \n",
       "3              0  "
      ]
     },
     "execution_count": 21,
     "metadata": {},
     "output_type": "execute_result"
    }
   ],
   "source": [
    "# the first 4 rows of data\n",
    "ad_data.head(4)"
   ]
  },
  {
   "cell_type": "code",
   "execution_count": 35,
   "metadata": {},
   "outputs": [
    {
     "data": {
      "text/plain": [
       "(100000, 8)"
      ]
     },
     "execution_count": 35,
     "metadata": {},
     "output_type": "execute_result"
    }
   ],
   "source": [
    "ad_data.shape"
   ]
  },
  {
   "cell_type": "markdown",
   "metadata": {},
   "source": [
    "##### Some initial thoughts: #####\n",
    "\n",
    "* The ip adresses don't look like normal ip addresses - we probably cannot geotag them (which might have been useful)\n",
    "\n",
    "* attributed_time only exists if there is attribution  - it is therfore also like the label is_attributed - and so would be unfoar to use for training\n",
    "\n",
    "* click_time can probably be converted into 1hour or half-hour periods. i.e replace all events with time between 08:00 and 09:00 with 8:00, regardless of the sepecific day.\n",
    "\n",
    "* All fields except time seem to be categorical. Follwing the above suggestion with the time will lead to the click_time being best treated as nominal, although given a later or earlier time is not neccessarily better/worse and that time occurs on a circle, not linearly, it may be best to treat the field as categorical data.\n",
    "\n",
    "   - treating all the data as categorical could lead to large dimensionality, particularly if use one-hot encoding, it may be that using a hash encoding is better. \n",
    "   - for categorical data there is also the worry that future out-of-sample data won't be predicted well by whatever ML model we build.\n"
   ]
  },
  {
   "cell_type": "markdown",
   "metadata": {},
   "source": [
    "### check the balanced/imbalanced nature of this dataset ###"
   ]
  },
  {
   "cell_type": "code",
   "execution_count": 25,
   "metadata": {},
   "outputs": [
    {
     "data": {
      "text/plain": [
       "0    99773\n",
       "1      227\n",
       "Name: is_attributed, dtype: int64"
      ]
     },
     "execution_count": 25,
     "metadata": {},
     "output_type": "execute_result"
    }
   ],
   "source": [
    "ad_data['is_attributed'].value_counts()"
   ]
  },
  {
   "cell_type": "markdown",
   "metadata": {},
   "source": [
    "So, the data set is clearly imbalanced, there are for more 0 labelled than 1 labelled data.\n",
    "\n",
    "This is already surprising to me - that means most traffic was either fraudulent or potentially so (no downlaod follwing a click)\n",
    "\n",
    "Imprtantly for analysis - this means we have to be careful about how we select data for training from the data set\n",
    "we may also want to consider whether we care more about sensitivity or specicifity from our model. "
   ]
  },
  {
   "cell_type": "markdown",
   "metadata": {},
   "source": [
    "### Let's start to look into the data itself for some beginning clues ###"
   ]
  },
  {
   "cell_type": "code",
   "execution_count": 38,
   "metadata": {},
   "outputs": [
    {
     "name": "stdout",
     "output_type": "stream",
     "text": [
      "number of unique ips =  34857\n",
      "fraction of unique ips vs all all ips =  0.34857\n"
     ]
    }
   ],
   "source": [
    "no_uniq_ips = ad_data['ip'].nunique()\n",
    "print(\"number of unique ips = \",no_uniq_ips)\n",
    "print(\"fraction of unique ips vs all all ips = \",no_uniq_ips/len(ad_data.index))"
   ]
  },
  {
   "cell_type": "code",
   "execution_count": 40,
   "metadata": {},
   "outputs": [
    {
     "name": "stdout",
     "output_type": "stream",
     "text": [
      "5348     669\n",
      "5314     616\n",
      "73487    439\n",
      "73516    399\n",
      "53454    280\n",
      "Name: ip, dtype: int64\n",
      "125982    1\n",
      "5153      1\n",
      "177205    1\n",
      "60478     1\n",
      "92122     1\n",
      "Name: ip, dtype: int64\n"
     ]
    }
   ],
   "source": [
    "print(ad_data['ip'].value_counts().head())\n",
    "print(ad_data['ip'].value_counts().tail())"
   ]
  },
  {
   "cell_type": "code",
   "execution_count": 187,
   "metadata": {},
   "outputs": [
    {
     "name": "stdout",
     "output_type": "stream",
     "text": [
      "[669 616 439 ...   1   1   1]\n"
     ]
    },
    {
     "data": {
      "image/png": "[encoded data removed]",
      "text/plain": [
       "<Figure size 432x288 with 1 Axes>"
      ]
     },
     "metadata": {},
     "output_type": "display_data"
    }
   ],
   "source": [
    "ip_counts = ad_data['ip'].value_counts().to_numpy()\n",
    "print(ip_counts)\n",
    "plt.semilogy((ip_counts), '*')\n",
    "plt.xlim([-1000,len(ip_counts)])\n",
    "\n",
    "plt.xlabel('ip_index')\n",
    "plt.ylabel('number of visits')\n",
    "\n",
    "plt.show()"
   ]
  },
  {
   "cell_type": "code",
   "execution_count": 189,
   "metadata": {},
   "outputs": [
    {
     "data": {
      "image/png": "[encoded data removed]",
      "text/plain": [
       "<Figure size 432x288 with 1 Axes>"
      ]
     },
     "metadata": {},
     "output_type": "display_data"
    }
   ],
   "source": [
    "plt.hist(np.log10(ip_counts),bins=15)\n",
    "plt.xlim([0.0,np.amax(np.log10(ip_counts))])\n",
    "plt.ylim([-0.0,20000])\n",
    "\n",
    "plt.xlabel('log10(number of visits by one ip)')\n",
    "plt.ylabel('counts')\n",
    "\n",
    "plt.show()"
   ]
  },
  {
   "cell_type": "markdown",
   "metadata": {},
   "source": [
    "We can clearly see that most ip addresses make only a handful of clicks, but there are a small number of ips who make a few hundred clicks.\n",
    "\n",
    "factors that may affect this are how frequent that clicks occur. If we were predicting in real time and a new user shows up making many clicks, we may want to keep track of those clicks - it may be that different temporal profiles for clicking patterns can signify true vs false actors."
   ]
  },
  {
   "cell_type": "code",
   "execution_count": 94,
   "metadata": {},
   "outputs": [
    {
     "data": {
      "text/plain": [
       "5348      3\n",
       "5314      3\n",
       "272894    1\n",
       "11967     1\n",
       "65214     1\n",
       "Name: ip, dtype: int64"
      ]
     },
     "execution_count": 94,
     "metadata": {},
     "output_type": "execute_result"
    }
   ],
   "source": [
    "ad_data_attr=ad_data[ad_data['is_attributed']==1.0]\n",
    "ad_data_attr.head()\n",
    "ad_data_attr['ip'].value_counts().head()"
   ]
  },
  {
   "cell_type": "code",
   "execution_count": 190,
   "metadata": {},
   "outputs": [
    {
     "data": {
      "image/png": "[encoded data removed]",
      "text/plain": [
       "<Figure size 432x288 with 1 Axes>"
      ]
     },
     "metadata": {},
     "output_type": "display_data"
    }
   ],
   "source": [
    "ip_counts = ad_data_attr['ip'].value_counts().to_numpy()\n",
    "plt.semilogy(ip_counts, '*')\n",
    "plt.xlabel('ip_index')\n",
    "plt.ylabel('number of visits')\n",
    "\n",
    "plt.show()"
   ]
  },
  {
   "cell_type": "code",
   "execution_count": 100,
   "metadata": {},
   "outputs": [
    {
     "data": {
      "text/plain": [
       "5348     666\n",
       "5314     613\n",
       "73487    439\n",
       "73516    399\n",
       "53454    280\n",
       "Name: ip, dtype: int64"
      ]
     },
     "execution_count": 100,
     "metadata": {},
     "output_type": "execute_result"
    }
   ],
   "source": [
    "ad_data_notattr=ad_data[ad_data['is_attributed']==0.0]\n",
    "ad_data_notattr.head()\n",
    "ad_data_notattr['ip'].value_counts().head()"
   ]
  },
  {
   "cell_type": "code",
   "execution_count": 191,
   "metadata": {},
   "outputs": [
    {
     "data": {
      "image/png": "[encoded data removed]",
      "text/plain": [
       "<Figure size 432x288 with 1 Axes>"
      ]
     },
     "metadata": {},
     "output_type": "display_data"
    }
   ],
   "source": [
    "ip_counts = ad_data_notattr['ip'].value_counts().to_numpy()\n",
    "plt.semilogy(ip_counts, '*')\n",
    "plt.xlabel('ip_index')\n",
    "plt.ylabel('number of visits')\n",
    "\n",
    "plt.show()"
   ]
  },
  {
   "cell_type": "markdown",
   "metadata": {},
   "source": [
    "So, while we can proabably treat any ip we've seen many times before as fraudulent, the challenge is then, how do we seperate out the fraudulent cases where the ip has only been seen a handful of times. (I would guess this is is bots using vpn/proxy etc to a network of ips obtained nefariously).\n",
    "\n",
    "Since there are many more bad than good actors, cutting out the high usage ips will remove a lot of fraudulent users, but there will still be many more fraudulent than real users.\n",
    "\n",
    "\n",
    "To get a better predictor, we're clearly going to need to use the rest of the data at our disposal.\n",
    "\n",
    "I want to look at how many categories exist in the other data fields, to get a sense of the dimensionality of the problem at hand."
   ]
  },
  {
   "cell_type": "code",
   "execution_count": 104,
   "metadata": {},
   "outputs": [
    {
     "name": "stdout",
     "output_type": "stream",
     "text": [
      "number of unique app =  161\n",
      "number of unique device =  100\n",
      "number of unique os =  130\n",
      "number of unique channel =  161\n"
     ]
    }
   ],
   "source": [
    "categoricals=['app','device','os','channel']\n",
    "for c in categoricals:\n",
    "    no_uniq = ad_data[c].nunique()\n",
    "    print(\"number of unique \" + c + \" = \",no_uniq)\n"
   ]
  },
  {
   "cell_type": "markdown",
   "metadata": {},
   "source": [
    "Number of unique \"app\" and unique \"channel\" are the same - some info overlap?\n",
    "\n",
    "I would guess that device and os contain a lot of information overlap. i.e all iphone models running some ios version, samsung running android etc. but then, maybe shouldn't discount this in case say some brands of phone running a certain os is unusual and is actually a sign for bots or something.\n"
   ]
  },
  {
   "cell_type": "markdown",
   "metadata": {},
   "source": [
    "#### DEVICE and OS fields #### "
   ]
  },
  {
   "cell_type": "code",
   "execution_count": 161,
   "metadata": {},
   "outputs": [],
   "source": [
    "dev_os = ad_data.groupby(['device','os']).size().reset_index(name='counts')"
   ]
  },
  {
   "cell_type": "code",
   "execution_count": 139,
   "metadata": {},
   "outputs": [
    {
     "data": {
      "text/plain": [
       "19    23870\n",
       "13    21223\n",
       "17     5232\n",
       "18     4830\n",
       "22     4039\n",
       "10     2816\n",
       "8      2775\n",
       "6      2520\n",
       "15     2396\n",
       "20     2347\n",
       "Name: os, dtype: int64"
      ]
     },
     "execution_count": 139,
     "metadata": {},
     "output_type": "execute_result"
    }
   ],
   "source": [
    "ad_data['os'].value_counts().head(10)"
   ]
  },
  {
   "cell_type": "code",
   "execution_count": 143,
   "metadata": {},
   "outputs": [
    {
     "data": {
      "text/plain": [
       "1       94338\n",
       "2        4345\n",
       "0         541\n",
       "3032      371\n",
       "3543      151\n",
       "3866       93\n",
       "59         12\n",
       "6           8\n",
       "16          7\n",
       "5           7\n",
       "Name: device, dtype: int64"
      ]
     },
     "execution_count": 143,
     "metadata": {},
     "output_type": "execute_result"
    }
   ],
   "source": [
    "ad_data['device'].value_counts().head(10)"
   ]
  },
  {
   "cell_type": "markdown",
   "metadata": {},
   "source": [
    "some devices, and some os's, get used a lot more than others. Which makes sense. Are the os's used by the most used devices different from those used by other devices?"
   ]
  },
  {
   "cell_type": "code",
   "execution_count": 158,
   "metadata": {},
   "outputs": [
    {
     "name": "stdout",
     "output_type": "stream",
     "text": [
      "no unique os for most used devices =  125\n",
      "[ 13  17  19   1  25  22  20   2  90  10  18  40  15  27  23  53  49  37\n",
      "  26  41   8  11   9  14  28  47   3   6  97   4  31  16  30  32  12  46\n",
      "  65  55  29  42  39  34  79  35  44   7   0  36  99  43  64  58  50  24\n",
      "  66  57 109  70  98 836  56 108  76 137  48   5  38  63 100  62  21  96\n",
      "  88  73  74 138  52  61 172  59  81 102 748  77 866  78  60 153  80 118\n",
      "  69  85 151  68 178 192 135 198  83 112  67 132  71 607 142 117 111 168\n",
      " 106 110 129 127 107 152 155 133  92 196  87 174 207 184 114 185 193]\n"
     ]
    },
    {
     "data": {
      "text/plain": [
       "19    23869\n",
       "13    21221\n",
       "17     5232\n",
       "18     4830\n",
       "22     4038\n",
       "10     2816\n",
       "8      2775\n",
       "6      2520\n",
       "15     2396\n",
       "20     2346\n",
       "Name: os, dtype: int64"
      ]
     },
     "execution_count": 158,
     "metadata": {},
     "output_type": "execute_result"
    }
   ],
   "source": [
    "most_used_dev = ad_data[ad_data['device'].isin([0,1,2])][['device','os']]\n",
    "print(\"no unique os for most used devices = \", most_used_dev['os'].nunique())\n",
    "print(most_used_dev['os'].unique())\n",
    "most_used_dev['os'].value_counts().head(10)"
   ]
  },
  {
   "cell_type": "code",
   "execution_count": 160,
   "metadata": {},
   "outputs": [
    {
     "name": "stdout",
     "output_type": "stream",
     "text": [
      "no unique os for least used devices =  26\n",
      "[866 607 748  21  24   0  38  23  29  45  84  13  50  59 113  76  20  12\n",
      "   5  22  19 199   9 116  67  52]\n"
     ]
    },
    {
     "data": {
      "text/plain": [
       "607    371\n",
       "748    149\n",
       "866     93\n",
       "24      44\n",
       "0       39\n",
       "29      24\n",
       "38      13\n",
       "21      12\n",
       "45       7\n",
       "9        3\n",
       "Name: os, dtype: int64"
      ]
     },
     "execution_count": 160,
     "metadata": {},
     "output_type": "execute_result"
    }
   ],
   "source": [
    "least_used_dev = ad_data[~ad_data['device'].isin([0,1,2])][['device','os']]\n",
    "print(\"no unique os for least used devices = \", least_used_dev['os'].nunique())\n",
    "print(least_used_dev['os'].unique())\n",
    "least_used_dev['os'].value_counts().head(10)"
   ]
  },
  {
   "cell_type": "markdown",
   "metadata": {},
   "source": [
    "So, the most used (top 3) devices use quite a different set of os's to the rest of the devices. All but one row in the table of os 19 were for the top 3 devices.  \n",
    "\n",
    "This could just be due to prevalence of certin brands and associated id's rather than a suggestion that there is a strong predictor for fraud associated with this info. But it could give the option for reducing dimension due to linked info.\n"
   ]
  },
  {
   "cell_type": "code",
   "execution_count": 165,
   "metadata": {},
   "outputs": [
    {
     "data": {
      "text/plain": [
       "0    23829\n",
       "1       41\n",
       "Name: is_attributed, dtype: int64"
      ]
     },
     "execution_count": 165,
     "metadata": {},
     "output_type": "execute_result"
    }
   ],
   "source": [
    "os19 = ad_data[ad_data.os==19]\n",
    "os19['is_attributed'].value_counts()"
   ]
  },
  {
   "cell_type": "markdown",
   "metadata": {},
   "source": [
    "Use of os '19' doesn't seem to be in any way a predictor of ad fraud - rembering that the data set is heavily skewed towards unattributed clicks.\n",
    "\n",
    "Since we are doing an initial quick scan through the data, I'll leave this here and keep it in mind as an area for development during model building. \n",
    "\n",
    "Now, we go on to look at other features"
   ]
  },
  {
   "cell_type": "markdown",
   "metadata": {},
   "source": [
    "#### APP and CHANNEL fields ####\n",
    "\n",
    "let's look to see how the app and channel field are related. "
   ]
  },
  {
   "cell_type": "code",
   "execution_count": 287,
   "metadata": {},
   "outputs": [
    {
     "data": {
      "text/plain": [
       "280    8114\n",
       "245    4802\n",
       "107    4543\n",
       "477    3960\n",
       "134    3224\n",
       "259    3130\n",
       "265    3013\n",
       "153    2954\n",
       "178    2936\n",
       "121    2472\n",
       "Name: channel, dtype: int64"
      ]
     },
     "execution_count": 287,
     "metadata": {},
     "output_type": "execute_result"
    }
   ],
   "source": [
    "ad_data['channel'].value_counts().head(10)"
   ]
  },
  {
   "cell_type": "code",
   "execution_count": 288,
   "metadata": {},
   "outputs": [
    {
     "data": {
      "text/plain": [
       "3     18279\n",
       "12    13198\n",
       "2     11737\n",
       "9      8992\n",
       "15     8595\n",
       "18     8315\n",
       "14     5359\n",
       "1      3135\n",
       "13     2422\n",
       "8      2004\n",
       "Name: app, dtype: int64"
      ]
     },
     "execution_count": 288,
     "metadata": {},
     "output_type": "execute_result"
    }
   ],
   "source": [
    "ad_data['app'].value_counts().head(10)"
   ]
  },
  {
   "cell_type": "code",
   "execution_count": 218,
   "metadata": {},
   "outputs": [
    {
     "name": "stdout",
     "output_type": "stream",
     "text": [
      "3     7833\n",
      "17     281\n",
      "Name: app, dtype: int64\n",
      "1     7827\n",
      "2      285\n",
      "59       2\n",
      "Name: device, dtype: int64\n",
      "19    1943\n",
      "13    1767\n",
      "17     461\n",
      "18     439\n",
      "22     316\n",
      "8      300\n",
      "10     290\n",
      "20     233\n",
      "6      226\n",
      "15     197\n",
      "Name: os, dtype: int64\n",
      "5348      49\n",
      "5314      37\n",
      "53454     23\n",
      "73516     22\n",
      "73487     20\n",
      "114276    20\n",
      "137052    17\n",
      "17149     16\n",
      "44744     12\n",
      "26995     12\n",
      "Name: ip, dtype: int64\n",
      "0    8112\n",
      "1       2\n",
      "Name: is_attributed, dtype: int64\n"
     ]
    }
   ],
   "source": [
    "modal_channel = ad_data['channel'].mode().iloc[0]\n",
    "\n",
    "print(ad_data[ad_data['channel']==modal_channel]['app'].value_counts())\n",
    "\n",
    "print(ad_data[ad_data['channel']==modal_channel]['device'].value_counts())\n",
    "\n",
    "print(ad_data[ad_data['channel']==modal_channel]['os'].value_counts().head(10))\n",
    "\n",
    "print(ad_data[ad_data['channel']==modal_channel]['ip'].value_counts().head(10))\n",
    "\n",
    "print(ad_data[ad_data['channel']==modal_channel]['is_attributed'].value_counts())\n",
    "\n"
   ]
  },
  {
   "cell_type": "code",
   "execution_count": 213,
   "metadata": {},
   "outputs": [
    {
     "name": "stdout",
     "output_type": "stream",
     "text": [
      "280    7833\n",
      "137     957\n",
      "424     722\n",
      "489     703\n",
      "480     684\n",
      "409     681\n",
      "442     666\n",
      "115     633\n",
      "205     613\n",
      "211     579\n",
      "173     565\n",
      "379     557\n",
      "130     435\n",
      "135     426\n",
      "19      422\n",
      "452     382\n",
      "371     242\n",
      "153     235\n",
      "466     231\n",
      "417     198\n",
      "402     149\n",
      "317     120\n",
      "30       70\n",
      "182      67\n",
      "421      46\n",
      "113      38\n",
      "110       9\n",
      "404       7\n",
      "456       4\n",
      "353       3\n",
      "114       1\n",
      "22        1\n",
      "Name: channel, dtype: int64\n",
      "1     17656\n",
      "2       613\n",
      "5         7\n",
      "59        3\n",
      "Name: device, dtype: int64\n"
     ]
    }
   ],
   "source": [
    "modal_app = ad_data['app'].mode().iloc[0]\n",
    "print(ad_data[ad_data['app']==modal_app]['channel'].value_counts())\n",
    "print(ad_data[ad_data['app']==modal_app]['device'].value_counts())\n"
   ]
  },
  {
   "cell_type": "markdown",
   "metadata": {},
   "source": [
    "The most used app uses many channels (although mostly the overall modal channel). The modal channel uses only two apps."
   ]
  },
  {
   "cell_type": "code",
   "execution_count": 220,
   "metadata": {},
   "outputs": [
    {
     "name": "stdout",
     "output_type": "stream",
     "text": [
      "213    72\n",
      "113    31\n",
      "21     19\n",
      "101    13\n",
      "274    12\n",
      "347    11\n",
      "282     5\n",
      "171     5\n",
      "243     5\n",
      "5       5\n",
      "Name: channel, dtype: int64\n",
      "280    8112\n",
      "245    4802\n",
      "107    4542\n",
      "477    3960\n",
      "134    3223\n",
      "259    3130\n",
      "265    3011\n",
      "153    2954\n",
      "178    2936\n",
      "121    2471\n",
      "Name: channel, dtype: int64\n"
     ]
    }
   ],
   "source": [
    "print(ad_data_attr['channel'].value_counts().head(10))\n",
    "print(ad_data_notattr['channel'].value_counts().head(10))"
   ]
  },
  {
   "cell_type": "code",
   "execution_count": 221,
   "metadata": {},
   "outputs": [
    {
     "name": "stdout",
     "output_type": "stream",
     "text": [
      "19    70\n",
      "35    27\n",
      "29    22\n",
      "10    18\n",
      "5     14\n",
      "45    11\n",
      "9      8\n",
      "72     6\n",
      "18     5\n",
      "3      4\n",
      "Name: app, dtype: int64\n",
      "3     18275\n",
      "12    13197\n",
      "2     11737\n",
      "9      8984\n",
      "15     8593\n",
      "18     8310\n",
      "14     5359\n",
      "1      3135\n",
      "13     2422\n",
      "8      2000\n",
      "Name: app, dtype: int64\n"
     ]
    }
   ],
   "source": [
    "print(ad_data_attr['app'].value_counts().head(10))\n",
    "print(ad_data_notattr['app'].value_counts().head(10))"
   ]
  },
  {
   "cell_type": "code",
   "execution_count": 222,
   "metadata": {},
   "outputs": [
    {
     "name": "stdout",
     "output_type": "stream",
     "text": [
      "1     146\n",
      "0      52\n",
      "97      3\n",
      "16      3\n",
      "2       2\n",
      "21      2\n",
      "50      1\n",
      "4       1\n",
      "6       1\n",
      "30      1\n",
      "Name: device, dtype: int64\n",
      "1       94192\n",
      "2        4343\n",
      "0         489\n",
      "3032      371\n",
      "3543      151\n",
      "3866       93\n",
      "59         12\n",
      "5           7\n",
      "6           7\n",
      "40          6\n",
      "Name: device, dtype: int64\n"
     ]
    }
   ],
   "source": [
    "print(ad_data_attr['device'].value_counts().head(10))\n",
    "print(ad_data_notattr['device'].value_counts().head(10))"
   ]
  },
  {
   "cell_type": "code",
   "execution_count": 223,
   "metadata": {},
   "outputs": [
    {
     "name": "stdout",
     "output_type": "stream",
     "text": [
      "19    41\n",
      "0     26\n",
      "24    26\n",
      "13    25\n",
      "29    11\n",
      "21     8\n",
      "17     6\n",
      "27     6\n",
      "22     6\n",
      "7      5\n",
      "Name: os, dtype: int64\n",
      "19    23829\n",
      "13    21198\n",
      "17     5226\n",
      "18     4826\n",
      "22     4033\n",
      "10     2813\n",
      "8      2775\n",
      "6      2518\n",
      "15     2392\n",
      "20     2344\n",
      "Name: os, dtype: int64\n"
     ]
    }
   ],
   "source": [
    "print(ad_data_attr['os'].value_counts().head(10))\n",
    "print(ad_data_notattr['os'].value_counts().head(10))"
   ]
  },
  {
   "cell_type": "markdown",
   "metadata": {},
   "source": [
    "It looks like the data will be easier to seperate into attributed/not attributed on the basis of app and channel as oppposed to device and os - since there seems to be a lot of overlap of users using the same device/os for not/is attributed cases."
   ]
  },
  {
   "cell_type": "markdown",
   "metadata": {},
   "source": [
    "### timing of use ###\n",
    "\n",
    "I'm going to put time into a condensed hourly format (ie all time 08->09 at 08:00, ignoring the exact day, as well as mins and secs).\n",
    "\n",
    "Although, side note:\n",
    "For a real-time analysis system, I would I imagine it would be beneficial to include recent dynamics into the model. e.g. how has a particular ip acted in the last week - could have clicked on ads and not download becuase unsure, but eventually will download or something like that - there may be different patterns for those users compared to fraudulent cases."
   ]
  },
  {
   "cell_type": "code",
   "execution_count": 248,
   "metadata": {},
   "outputs": [
    {
     "data": {
      "text/plain": [
       "0    2017-11-07 09:30:38\n",
       "1    2017-11-07 13:40:27\n",
       "2    2017-11-07 18:05:24\n",
       "3    2017-11-07 04:58:08\n",
       "4    2017-11-09 09:00:09\n",
       "5    2017-11-09 01:22:13\n",
       "6    2017-11-09 01:17:58\n",
       "7    2017-11-07 10:01:53\n",
       "8    2017-11-08 09:35:17\n",
       "9    2017-11-08 12:35:26\n",
       "Name: click_time, dtype: object"
      ]
     },
     "execution_count": 248,
     "metadata": {},
     "output_type": "execute_result"
    }
   ],
   "source": [
    "ad_data['click_time'].head(10)"
   ]
  },
  {
   "cell_type": "code",
   "execution_count": 249,
   "metadata": {},
   "outputs": [
    {
     "data": {
      "text/plain": [
       "0   2017-11-07 09:30:38\n",
       "1   2017-11-07 13:40:27\n",
       "2   2017-11-07 18:05:24\n",
       "3   2017-11-07 04:58:08\n",
       "4   2017-11-09 09:00:09\n",
       "5   2017-11-09 01:22:13\n",
       "6   2017-11-09 01:17:58\n",
       "7   2017-11-07 10:01:53\n",
       "8   2017-11-08 09:35:17\n",
       "9   2017-11-08 12:35:26\n",
       "Name: click_time, dtype: datetime64[ns]"
      ]
     },
     "execution_count": 249,
     "metadata": {},
     "output_type": "execute_result"
    }
   ],
   "source": [
    "pd.to_datetime(ad_data['click_time'],format='%Y-%m-%d %H:%M:%S').head(10)"
   ]
  },
  {
   "cell_type": "code",
   "execution_count": 250,
   "metadata": {},
   "outputs": [],
   "source": [
    "# adjust the all rows in click_time into datetime format\n",
    "ad_data['click_time'] = pd.to_datetime(ad_data['click_time'],format='%Y-%m-%d %H:%M:%S')"
   ]
  },
  {
   "cell_type": "code",
   "execution_count": 254,
   "metadata": {},
   "outputs": [],
   "source": [
    "# adjust all rows so that click time is just the hour in which click happened\n",
    "ad_data['click_time'] = ad_data['click_time'].dt.hour "
   ]
  },
  {
   "cell_type": "markdown",
   "metadata": {},
   "source": [
    "Now, make two tables, for attributed and unattributed clicks"
   ]
  },
  {
   "cell_type": "code",
   "execution_count": 305,
   "metadata": {},
   "outputs": [],
   "source": [
    "ad_data_attr = ad_data[ad_data['is_attributed']==1]\n",
    "ad_data_notattr = ad_data[ad_data['is_attributed']==0]"
   ]
  },
  {
   "cell_type": "code",
   "execution_count": 306,
   "metadata": {},
   "outputs": [],
   "source": [
    "attr_click_cts = ad_data_attr['click_time'].value_counts().sort_index()\n",
    "notattr_click_cts = ad_data_notattr['click_time'].value_counts().sort_index()"
   ]
  },
  {
   "cell_type": "code",
   "execution_count": 307,
   "metadata": {},
   "outputs": [
    {
     "data": {
      "text/plain": [
       "Int64Index([0, 1, 2, 3, 4, 5, 6, 7, 8, 9, 10, 11, 12, 13, 14, 15, 17, 18, 20,\n",
       "            21, 22, 23],\n",
       "           dtype='int64')"
      ]
     },
     "execution_count": 307,
     "metadata": {},
     "output_type": "execute_result"
    }
   ],
   "source": [
    "attr_click_cts.index"
   ]
  },
  {
   "cell_type": "code",
   "execution_count": 308,
   "metadata": {},
   "outputs": [
    {
     "data": {
      "text/plain": [
       "0     13\n",
       "1     15\n",
       "2     10\n",
       "3     15\n",
       "4     10\n",
       "5     15\n",
       "6     12\n",
       "7     13\n",
       "8     13\n",
       "9     10\n",
       "10    16\n",
       "11    10\n",
       "12    14\n",
       "13    10\n",
       "14    17\n",
       "15     9\n",
       "17     2\n",
       "18     2\n",
       "20     2\n",
       "21     3\n",
       "22     3\n",
       "23    13\n",
       "Name: click_time, dtype: int64"
      ]
     },
     "execution_count": 308,
     "metadata": {},
     "output_type": "execute_result"
    }
   ],
   "source": [
    "attr_click_cts"
   ]
  },
  {
   "cell_type": "code",
   "execution_count": 309,
   "metadata": {},
   "outputs": [
    {
     "data": {
      "image/png": "[encoded data removed]",
      "text/plain": [
       "<Figure size 432x288 with 1 Axes>"
      ]
     },
     "metadata": {},
     "output_type": "display_data"
    }
   ],
   "source": [
    "def max_norm(a):\n",
    "    return a/np.amax(a)\n",
    "\n",
    "plt.fill_between(attr_click_cts.index,0.0,max_norm(attr_click_cts),alpha=0.6,color='g',label='attributed')\n",
    "plt.fill_between(notattr_click_cts.index,0.0,max_norm(notattr_click_cts),alpha=0.2,color='r',label='not_attributed')\n",
    "plt.legend(frameon=False)\n",
    "plt.xlabel('hour')\n",
    "plt.ylabel('occurences (norm.)')\n",
    "\n",
    "plt.xlim([0.0,23])\n",
    "plt.ylim([0.0,1.05])\n",
    "\n",
    "plt.show()"
   ]
  },
  {
   "cell_type": "markdown",
   "metadata": {},
   "source": [
    "The temporal dependence of clicks doesn't look like a great independent predictor for fraudluent clicks.\n",
    "It could be that it performs well when paired with the other features though.\n",
    "\n",
    "It seems a little confusing that all users seems to click throughout the night - but this could be due to the timezone being used not being the one used in the country under investigation. \n",
    "\n",
    "The spiky nature of the attributed data compared with the not attributed data is simply due to fewer data points."
   ]
  },
  {
   "cell_type": "markdown",
   "metadata": {},
   "source": [
    "Our model:\n",
    "\n",
    "do we actually want to look through the rows a few at a time - to look at temporal profile of users or perhaps apps/channels - and ban particular ip/app/channels as their stats look weird - and ben them for either ever or some period of time?"
   ]
  },
  {
   "cell_type": "code",
   "execution_count": 310,
   "metadata": {},
   "outputs": [],
   "source": [
    "modal_ip =  ad_data['ip'].mode().iloc[0]\n",
    "ad_data_notattr_maxip = ad_data[(ad_data['is_attributed']==0) & (ad_data['ip']==modal_ip)]"
   ]
  },
  {
   "cell_type": "code",
   "execution_count": 311,
   "metadata": {},
   "outputs": [],
   "source": [
    "notattr_maxip_click_cts = ad_data_notattr_maxip['click_time'].value_counts().sort_index()"
   ]
  },
  {
   "cell_type": "code",
   "execution_count": 312,
   "metadata": {},
   "outputs": [
    {
     "data": {
      "image/png": "[encoded data removed]",
      "text/plain": [
       "<Figure size 432x288 with 1 Axes>"
      ]
     },
     "metadata": {},
     "output_type": "display_data"
    }
   ],
   "source": [
    "plt.fill_between(attr_click_cts.index,0.0,max_norm(attr_click_cts),alpha=0.6,color='g',label='attributed')\n",
    "plt.fill_between(notattr_click_cts.index,0.0,max_norm(notattr_click_cts),alpha=0.2,color='r',label='not_attributed')\n",
    "plt.fill_between(notattr_maxip_click_cts.index,0.0,max_norm(notattr_maxip_click_cts),alpha=0.2,color='b',label='not_attributed_maxip')\n",
    "plt.legend(frameon=False)\n",
    "plt.xlabel('hour')\n",
    "plt.ylabel('occurences (norm.)')\n",
    "\n",
    "plt.xlim([0.0,23])\n",
    "plt.ylim([0.0,1.05])\n",
    "\n",
    "plt.show()"
   ]
  },
  {
   "cell_type": "markdown",
   "metadata": {},
   "source": [
    "The modal ip in the data set follows a time trend different from the average, but then each user will likely have a different trend from \n",
    "the overall average"
   ]
  },
  {
   "cell_type": "code",
   "execution_count": null,
   "metadata": {},
   "outputs": [],
   "source": []
  }
 ],
 "metadata": {
  "kernelspec": {
   "display_name": "Python 3",
   "language": "python",
   "name": "python3"
  },
  "language_info": {
   "codemirror_mode": {
    "name": "ipython",
    "version": 3
   },
   "file_extension": ".py",
   "mimetype": "text/x-python",
   "name": "python",
   "nbconvert_exporter": "python",
   "pygments_lexer": "ipython3",
   "version": "3.7.2"
  }
 },
 "nbformat": 4,
 "nbformat_minor": 2
}
