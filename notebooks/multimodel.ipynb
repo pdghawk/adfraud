{
 "cells": [
  {
   "cell_type": "code",
   "execution_count": 1,
   "metadata": {},
   "outputs": [],
   "source": [
    "#import useful packages\n",
    "\n",
    "import pandas as pd\n",
    "import numpy as np\n",
    "\n",
    "import matplotlib.pyplot as plt\n",
    "import matplotlib as mpl\n",
    "%matplotlib inline\n",
    "\n",
    "import seaborn as sns\n",
    "sns.set()\n",
    "\n",
    "mpl.rcParams['lines.linewidth']=2.0\n",
    "mpl.rcParams['xtick.labelsize']=13\n",
    "mpl.rcParams['ytick.labelsize']=13\n",
    "mpl.rcParams['axes.labelsize']=15\n",
    "mpl.rcParams['axes.labelweight']='heavy'\n",
    "mpl.rcParams['axes.titlesize']=18\n",
    "mpl.rcParams['axes.titleweight']='heavy'\n",
    "mpl.rcParams['legend.fontsize']=12\n",
    "\n",
    "\n",
    "\n",
    "from sklearn.model_selection import train_test_split\n",
    "from sklearn.model_selection import GridSearchCV\n",
    "from sklearn.model_selection import StratifiedShuffleSplit\n",
    "from sklearn.ensemble import RandomForestClassifier\n",
    "from sklearn import metrics\n",
    "from sklearn.metrics import accuracy_score\n",
    "\n",
    "from sklearn.pipeline import Pipeline\n",
    "\n",
    "import category_encoders as ce\n",
    "\n",
    "import os\n",
    "import sys"
   ]
  },
  {
   "cell_type": "code",
   "execution_count": 2,
   "metadata": {},
   "outputs": [],
   "source": [
    "src_dir = os.path.join(os.path.dirname(os.getcwd()),'adfraud')\n",
    "sys.path.append(src_dir)\n",
    "\n",
    "data_dir = os.path.join(os.path.dirname(os.getcwd()),'data')\n",
    "\n",
    "data_filename = 'train_sample.csv'\n",
    "data_location = os.path.join(data_dir,data_filename)\n",
    "ad_data = pd.read_csv(data_location)\n",
    "#feats_df  = ad_data[['ip','app','channel']]\n",
    "#labels = ad_data['is_attributed'].values"
   ]
  },
  {
   "cell_type": "code",
   "execution_count": 5,
   "metadata": {},
   "outputs": [],
   "source": [
    "\n",
    "ad_data['click_time'] = pd.to_datetime(ad_data['click_time'],format='%Y-%m-%d %H:%M:%S')\n",
    "ad_data['click_time'] = ad_data['click_time'].dt.hour \n",
    "\n",
    "feats_df = ad_data[['ip','app','channel','click_time','os','device']]\n",
    "labels   = ad_data['is_attributed'].values\n",
    "\n",
    "feats_iac_df = feats_df[['ip','app','channel']]\n"
   ]
  },
  {
   "cell_type": "code",
   "execution_count": 4,
   "metadata": {},
   "outputs": [],
   "source": [
    "train_test_splitter = StratifiedShuffleSplit(n_splits=1,test_size=0.1,random_state=42)\n",
    "split = train_test_splitter.split(np.zeros((len(labels),)),labels)\n",
    "train_inds,test_inds = next(split)\n",
    "x_train = feats_df.iloc[train_inds]\n",
    "y_train = labels[train_inds]\n",
    "x_test  = feats_df.iloc[test_inds]\n",
    "y_test  = labels[test_inds] "
   ]
  },
  {
   "cell_type": "code",
   "execution_count": null,
   "metadata": {},
   "outputs": [],
   "source": []
  }
 ],
 "metadata": {
  "kernelspec": {
   "display_name": "Python 3",
   "language": "python",
   "name": "python3"
  },
  "language_info": {
   "codemirror_mode": {
    "name": "ipython",
    "version": 3
   },
   "file_extension": ".py",
   "mimetype": "text/x-python",
   "name": "python",
   "nbconvert_exporter": "python",
   "pygments_lexer": "ipython3",
   "version": "3.7.2"
  }
 },
 "nbformat": 4,
 "nbformat_minor": 2
}
